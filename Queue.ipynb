{
 "cells": [
  {
   "cell_type": "code",
   "execution_count": 6,
   "metadata": {},
   "outputs": [
    {
     "name": "stdout",
     "output_type": "stream",
     "text": [
      "deque(['1st Element', '2nd Element', '3rd Element']) \n",
      "\n",
      "the first popped element is : 1st Element\n",
      "the second popped element is : 2nd Element\n",
      "the third popped element is : 3rd Element\n"
     ]
    }
   ],
   "source": [
    "# Queues are made from arrays, and they follow the FIFO principle\n",
    "# Operations can be performed from the front or the back of the queue\n",
    "from collections import deque\n",
    "q = deque()\n",
    "\n",
    "q.append('1st Element')\n",
    "q.append('2nd Element')\n",
    "q.append('3rd Element')\n",
    "\n",
    "print(q, \"\\n\")\n",
    "\n",
    "a = q.popleft()\n",
    "print(\"the first popped element is :\", a)\n",
    "b = q.popleft()\n",
    "print(\"the second popped element is :\", b)\n",
    "c = q.popleft()\n",
    "print(\"the third popped element is :\", c)"
   ]
  },
  {
   "cell_type": "code",
   "execution_count": null,
   "metadata": {},
   "outputs": [],
   "source": []
  }
 ],
 "metadata": {
  "kernelspec": {
   "display_name": "Python 3",
   "language": "python",
   "name": "python3"
  },
  "language_info": {
   "codemirror_mode": {
    "name": "ipython",
    "version": 3
   },
   "file_extension": ".py",
   "mimetype": "text/x-python",
   "name": "python",
   "nbconvert_exporter": "python",
   "pygments_lexer": "ipython3",
   "version": "3.6.10"
  }
 },
 "nbformat": 4,
 "nbformat_minor": 4
}
