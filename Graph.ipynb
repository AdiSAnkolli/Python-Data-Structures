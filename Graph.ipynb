{
 "cells": [
  {
   "cell_type": "code",
   "execution_count": 3,
   "metadata": {},
   "outputs": [
    {
     "name": "stdout",
     "output_type": "stream",
     "text": [
      "[('a', 'c'), ('b', 'c'), ('b', 'e'), ('c', 'd'), ('c', 'e'), ('c', 'a'), ('c', 'b'), ('e', 'b'), ('e', 'c'), ('d', 'c')]\n"
     ]
    }
   ],
   "source": [
    "from collections import defaultdict\n",
    "graph = defaultdict(list)\n",
    "\n",
    "def add_edge(graph, u, v):\n",
    "    graph[u].append(v)\n",
    "    \n",
    "def generate_edges(graph):\n",
    "    edges =[]\n",
    "    for node in graph:\n",
    "        for neighbour in graph[node]:\n",
    "            edges.append((node, neighbour))\n",
    "    return edges\n",
    "\n",
    "add_edge(graph, 'a', 'c')\n",
    "add_edge(graph, 'b', 'c')\n",
    "add_edge(graph, 'b', 'e')\n",
    "add_edge(graph, 'c', 'd')\n",
    "add_edge(graph, 'c', 'e')\n",
    "add_edge(graph, 'c', 'a')\n",
    "add_edge(graph, 'c', 'b')\n",
    "add_edge(graph, 'e', 'b')\n",
    "add_edge(graph, 'd', 'c')\n",
    "add_edge(graph, 'e', 'c')\n",
    "\n",
    "print(generate_edges(graph))"
   ]
  },
  {
   "cell_type": "code",
   "execution_count": null,
   "metadata": {},
   "outputs": [],
   "source": []
  }
 ],
 "metadata": {
  "kernelspec": {
   "display_name": "Python 3",
   "language": "python",
   "name": "python3"
  },
  "language_info": {
   "codemirror_mode": {
    "name": "ipython",
    "version": 3
   },
   "file_extension": ".py",
   "mimetype": "text/x-python",
   "name": "python",
   "nbconvert_exporter": "python",
   "pygments_lexer": "ipython3",
   "version": "3.6.10"
  }
 },
 "nbformat": 4,
 "nbformat_minor": 4
}
