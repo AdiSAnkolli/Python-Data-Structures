{
 "cells": [
  {
   "cell_type": "code",
   "execution_count": 1,
   "metadata": {},
   "outputs": [],
   "source": [
    "# Built in are List, Dictionary, Tuple, Set.\n",
    "# User Defined are Tree, Graph, Array, Stack, Queue, LinkedList, HashMap.\n",
    "# Difference between list and array is that array has only one datatype."
   ]
  },
  {
   "cell_type": "code",
   "execution_count": 22,
   "metadata": {},
   "outputs": [
    {
     "data": {
      "text/plain": [
       "[1, 2, 3, 'abcd']"
      ]
     },
     "execution_count": 22,
     "metadata": {},
     "output_type": "execute_result"
    }
   ],
   "source": [
    "#List\n",
    "list1 = [1,2,3,'abcd']\n",
    "list1"
   ]
  },
  {
   "cell_type": "code",
   "execution_count": 23,
   "metadata": {},
   "outputs": [
    {
     "data": {
      "text/plain": [
       "[1, 2, 3, 'example', 'abcd', (2, 0), 2, 0]"
      ]
     },
     "execution_count": 23,
     "metadata": {},
     "output_type": "execute_result"
    }
   ],
   "source": [
    "# Functions Used to add data into the list:-\n",
    "# append(), extend(), insert()\n",
    "list1.append((2, 0))   # will add single element which is 2 dimensional:- (2,0)\n",
    "list1.extend((2, 0))   # will add 2 separate elements 2 and 0\n",
    "list1.insert(3, 'example')    # will add the specified element at the specified index\n",
    "list1"
   ]
  },
  {
   "cell_type": "code",
   "execution_count": 24,
   "metadata": {},
   "outputs": [
    {
     "data": {
      "text/plain": [
       "(2, 0)"
      ]
     },
     "execution_count": 24,
     "metadata": {},
     "output_type": "execute_result"
    }
   ],
   "source": [
    "# Functions Used to remove data from the list:-\n",
    "# del, pop(), remove()\n",
    "del list1[3] # list name and index of the element you want to delete\n",
    "a = list1.pop(4) # returns the value of popped element, thus, needs to be stored in a variable\n",
    "a\n"
   ]
  },
  {
   "cell_type": "code",
   "execution_count": 26,
   "metadata": {},
   "outputs": [
    {
     "data": {
      "text/plain": [
       "[1, 3, 'abcd', 2, 0]"
      ]
     },
     "execution_count": 26,
     "metadata": {},
     "output_type": "execute_result"
    }
   ],
   "source": [
    "list1.remove(2) # index of the element that's supposed to be removed\n",
    "list1"
   ]
  },
  {
   "cell_type": "code",
   "execution_count": 27,
   "metadata": {},
   "outputs": [
    {
     "name": "stdout",
     "output_type": "stream",
     "text": [
      "[1, 3, 'abcd', 2, 0]\n",
      "[1, 3]\n",
      "[1, 'abcd']\n",
      "[0, 2, 'abcd', 3, 1]\n"
     ]
    }
   ],
   "source": [
    "# Accessing Particular elements from the list\n",
    "print(list1)\n",
    "print(list1[0:2])  # Range of elements to be accessed\n",
    "print(list1[0:4:2])  # skip elements in between, only print 0th and 2nd\n",
    "print(list1[::-1])  # printing list in reverse order"
   ]
  },
  {
   "cell_type": "code",
   "execution_count": 29,
   "metadata": {},
   "outputs": [
    {
     "name": "stdout",
     "output_type": "stream",
     "text": [
      "[0, 1, 2, 3, 12, 546, 635]\n"
     ]
    }
   ],
   "source": [
    "# Some basic functions\n",
    "list2 = [1, 2, 3, 635, 12, 546, 0]\n",
    "print(sorted(list2)) # Prints data in ascending order, without changing contents of list"
   ]
  },
  {
   "cell_type": "code",
   "execution_count": 31,
   "metadata": {},
   "outputs": [
    {
     "data": {
      "text/plain": [
       "[635, 546, 12, 3, 2, 1, 0]"
      ]
     },
     "execution_count": 31,
     "metadata": {},
     "output_type": "execute_result"
    }
   ],
   "source": [
    "list2.sort(reverse=True) # This will make changes in the list\n",
    "list2"
   ]
  },
  {
   "cell_type": "code",
   "execution_count": 32,
   "metadata": {},
   "outputs": [
    {
     "name": "stdout",
     "output_type": "stream",
     "text": [
      "4\n"
     ]
    }
   ],
   "source": [
    "print(list2.index(2)) # gives index of mentioned element"
   ]
  },
  {
   "cell_type": "code",
   "execution_count": 33,
   "metadata": {},
   "outputs": [
    {
     "name": "stdout",
     "output_type": "stream",
     "text": [
      "1\n"
     ]
    }
   ],
   "source": [
    "print(list2.count(12)) # gives the number of times specified element occurs in the list"
   ]
  },
  {
   "cell_type": "code",
   "execution_count": null,
   "metadata": {},
   "outputs": [],
   "source": []
  }
 ],
 "metadata": {
  "kernelspec": {
   "display_name": "Python 3",
   "language": "python",
   "name": "python3"
  },
  "language_info": {
   "codemirror_mode": {
    "name": "ipython",
    "version": 3
   },
   "file_extension": ".py",
   "mimetype": "text/x-python",
   "name": "python",
   "nbconvert_exporter": "python",
   "pygments_lexer": "ipython3",
   "version": "3.6.10"
  }
 },
 "nbformat": 4,
 "nbformat_minor": 4
}
