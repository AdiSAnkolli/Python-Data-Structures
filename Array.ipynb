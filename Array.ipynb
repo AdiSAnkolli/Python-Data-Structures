{
 "cells": [
  {
   "cell_type": "code",
   "execution_count": null,
   "metadata": {},
   "outputs": [],
   "source": [
    "import array as arr\n",
    "a = arr.array('i', [1, 2, 3, 4, 5])\n",
    "while True:\n",
    "    print(\"1. Print Array\\n2. Add Elements\\n3. Pop element\\n4. Exit\")\n",
    "    choice = int(input(\"Enter the choice :-\\n\"))\n",
    "    if (choice == 1):\n",
    "        print(\"The elements of the array are \\n\")\n",
    "        for numbers in a:\n",
    "            print(numbers)\n",
    "    elif (choice == 2):\n",
    "        val = int(input(\"Enter the integer number you'd like to add\"))\n",
    "        if isinstance(val, int):\n",
    "            a.append(val)\n",
    "    elif (choice == 3):\n",
    "        value = a.pop()\n",
    "        print(\"The element that was popped was: \", value)\n",
    "    elif (choice == 4):\n",
    "        break\n",
    "    else:\n",
    "        (\"Enter a valid choice!\")\n",
    "        "
   ]
  },
  {
   "cell_type": "code",
   "execution_count": null,
   "metadata": {},
   "outputs": [],
   "source": []
  }
 ],
 "metadata": {
  "kernelspec": {
   "display_name": "Python 3",
   "language": "python",
   "name": "python3"
  },
  "language_info": {
   "codemirror_mode": {
    "name": "ipython",
    "version": 3
   },
   "file_extension": ".py",
   "mimetype": "text/x-python",
   "name": "python",
   "nbconvert_exporter": "python",
   "pygments_lexer": "ipython3",
   "version": "3.6.10"
  }
 },
 "nbformat": 4,
 "nbformat_minor": 4
}
