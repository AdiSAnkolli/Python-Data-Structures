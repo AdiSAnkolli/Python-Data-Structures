{
 "cells": [
  {
   "cell_type": "code",
   "execution_count": 1,
   "metadata": {},
   "outputs": [
    {
     "name": "stdout",
     "output_type": "stream",
     "text": [
      "The popped elements are :  3 2 1 \n",
      "\n",
      "Stack is empty. \n",
      "\n"
     ]
    }
   ],
   "source": [
    "# Stacks are made from arrays, follow the LIFO principle\n",
    "# Pointer called 'top' which indicates top of stack\n",
    "stack = []\n",
    "\n",
    "def empty():\n",
    "    if (len(stack) == 0):\n",
    "        print(\"Stack is empty. \\n\")\n",
    "    else:\n",
    "        print(stack, '\\n')\n",
    "        \n",
    "val1 = 1\n",
    "val2 = 2\n",
    "val3 = 3\n",
    "stack.append(val1)\n",
    "stack.append(val2)\n",
    "stack.append(val3)\n",
    "a = stack.pop()  # returns a value, thus, needs a variable\n",
    "b = stack.pop()\n",
    "c = stack.pop()\n",
    "print(\"The popped elements are : \", a, b, c, \"\\n\")\n",
    "empty()"
   ]
  },
  {
   "cell_type": "code",
   "execution_count": 3,
   "metadata": {},
   "outputs": [
    {
     "name": "stdout",
     "output_type": "stream",
     "text": [
      "1. Push \n",
      "2. Pop \n",
      "3. Quit\n",
      "What action would you like to perform?\n",
      "2\n",
      "Stack is empty!!\n",
      "\n",
      "1. Push \n",
      "2. Pop \n",
      "3. Quit\n",
      "What action would you like to perform?\n",
      "1\n",
      "Enter the value to be pushed into the stack\n",
      "1\n",
      "1. Push \n",
      "2. Pop \n",
      "3. Quit\n",
      "What action would you like to perform?\n",
      "1\n",
      "Enter the value to be pushed into the stack\n",
      "2\n",
      "1. Push \n",
      "2. Pop \n",
      "3. Quit\n",
      "What action would you like to perform?\n",
      "1\n",
      "Enter the value to be pushed into the stack\n",
      "3\n",
      "1. Push \n",
      "2. Pop \n",
      "3. Quit\n",
      "What action would you like to perform?\n",
      "2\n",
      "Popped value is:-  3\n",
      "1. Push \n",
      "2. Pop \n",
      "3. Quit\n",
      "What action would you like to perform?\n",
      "3\n"
     ]
    }
   ],
   "source": [
    "# Better one with classes\n",
    "\n",
    "class Stack:\n",
    "    def __init__(self):\n",
    "        self.items = []\n",
    "    \n",
    "    def is_empty(self):\n",
    "        return self.items == []\n",
    "    \n",
    "    def push(self, data):\n",
    "        self.items.append(data)\n",
    "    \n",
    "    def pop(self):\n",
    "        return self.items.pop()\n",
    "    \n",
    "s = Stack() # Initialized object of class Stack\n",
    "while True:\n",
    "    print('1. Push \\n2. Pop \\n3. Quit')\n",
    "    do = int(input(\"What action would you like to perform?\\n\"))\n",
    "    if (do == 1):\n",
    "        val = int(input(\"Enter the value to be pushed into the stack\\n\"))\n",
    "        s.push(val)\n",
    "    elif (do == 2):\n",
    "        if (s.is_empty()):\n",
    "            print(\"Stack is empty!!\\n\")\n",
    "        else:\n",
    "            print(\"Popped value is:- \", s.pop())\n",
    "    elif (do == 3):\n",
    "        break\n",
    "    else:\n",
    "        print(\"Please enter valid input\")\n",
    "        "
   ]
  },
  {
   "cell_type": "code",
   "execution_count": null,
   "metadata": {},
   "outputs": [],
   "source": []
  }
 ],
 "metadata": {
  "kernelspec": {
   "display_name": "Python 3",
   "language": "python",
   "name": "python3"
  },
  "language_info": {
   "codemirror_mode": {
    "name": "ipython",
    "version": 3
   },
   "file_extension": ".py",
   "mimetype": "text/x-python",
   "name": "python",
   "nbconvert_exporter": "python",
   "pygments_lexer": "ipython3",
   "version": "3.6.10"
  }
 },
 "nbformat": 4,
 "nbformat_minor": 4
}
